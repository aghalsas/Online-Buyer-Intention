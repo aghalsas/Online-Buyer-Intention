{
 "cells": [
  {
   "cell_type": "code",
   "execution_count": 861,
   "metadata": {},
   "outputs": [],
   "source": [
    "import pandas as pd\n",
    "import numpy as np\n",
    "import matplotlib.pyplot as plt\n",
    "import seaborn as sns\n",
    "from sklearn.model_selection import train_test_split\n",
    "from sklearn.preprocessing import StandardScaler\n",
    "from sklearn.linear_model import LogisticRegression\n",
    "from sklearn.metrics import roc_curve, auc\n",
    "from sklearn.metrics import accuracy_score, confusion_matrix, classification_report\n",
    "from sklearn.tree import DecisionTreeClassifier\n",
    "from sklearn.ensemble import BaggingClassifier, RandomForestClassifier"
   ]
  },
  {
   "cell_type": "code",
   "execution_count": 675,
   "metadata": {},
   "outputs": [
    {
     "data": {
      "text/html": [
       "<div>\n",
       "<style scoped>\n",
       "    .dataframe tbody tr th:only-of-type {\n",
       "        vertical-align: middle;\n",
       "    }\n",
       "\n",
       "    .dataframe tbody tr th {\n",
       "        vertical-align: top;\n",
       "    }\n",
       "\n",
       "    .dataframe thead th {\n",
       "        text-align: right;\n",
       "    }\n",
       "</style>\n",
       "<table border=\"1\" class=\"dataframe\">\n",
       "  <thead>\n",
       "    <tr style=\"text-align: right;\">\n",
       "      <th></th>\n",
       "      <th>Administrative</th>\n",
       "      <th>Administrative_Duration</th>\n",
       "      <th>Informational</th>\n",
       "      <th>Informational_Duration</th>\n",
       "      <th>ProductRelated</th>\n",
       "      <th>ProductRelated_Duration</th>\n",
       "      <th>BounceRates</th>\n",
       "      <th>ExitRates</th>\n",
       "      <th>PageValues</th>\n",
       "      <th>SpecialDay</th>\n",
       "      <th>Month</th>\n",
       "      <th>OperatingSystems</th>\n",
       "      <th>Browser</th>\n",
       "      <th>Region</th>\n",
       "      <th>TrafficType</th>\n",
       "      <th>VisitorType</th>\n",
       "      <th>Weekend</th>\n",
       "      <th>Revenue</th>\n",
       "    </tr>\n",
       "  </thead>\n",
       "  <tbody>\n",
       "    <tr>\n",
       "      <td>0</td>\n",
       "      <td>0.0</td>\n",
       "      <td>0.0</td>\n",
       "      <td>0.0</td>\n",
       "      <td>0.0</td>\n",
       "      <td>1.0</td>\n",
       "      <td>0.000000</td>\n",
       "      <td>0.20</td>\n",
       "      <td>0.20</td>\n",
       "      <td>0.0</td>\n",
       "      <td>0.0</td>\n",
       "      <td>Feb</td>\n",
       "      <td>1</td>\n",
       "      <td>1</td>\n",
       "      <td>1</td>\n",
       "      <td>1</td>\n",
       "      <td>Returning_Visitor</td>\n",
       "      <td>False</td>\n",
       "      <td>False</td>\n",
       "    </tr>\n",
       "    <tr>\n",
       "      <td>1</td>\n",
       "      <td>0.0</td>\n",
       "      <td>0.0</td>\n",
       "      <td>0.0</td>\n",
       "      <td>0.0</td>\n",
       "      <td>2.0</td>\n",
       "      <td>64.000000</td>\n",
       "      <td>0.00</td>\n",
       "      <td>0.10</td>\n",
       "      <td>0.0</td>\n",
       "      <td>0.0</td>\n",
       "      <td>Feb</td>\n",
       "      <td>2</td>\n",
       "      <td>2</td>\n",
       "      <td>1</td>\n",
       "      <td>2</td>\n",
       "      <td>Returning_Visitor</td>\n",
       "      <td>False</td>\n",
       "      <td>False</td>\n",
       "    </tr>\n",
       "    <tr>\n",
       "      <td>2</td>\n",
       "      <td>0.0</td>\n",
       "      <td>-1.0</td>\n",
       "      <td>0.0</td>\n",
       "      <td>-1.0</td>\n",
       "      <td>1.0</td>\n",
       "      <td>-1.000000</td>\n",
       "      <td>0.20</td>\n",
       "      <td>0.20</td>\n",
       "      <td>0.0</td>\n",
       "      <td>0.0</td>\n",
       "      <td>Feb</td>\n",
       "      <td>4</td>\n",
       "      <td>1</td>\n",
       "      <td>9</td>\n",
       "      <td>3</td>\n",
       "      <td>Returning_Visitor</td>\n",
       "      <td>False</td>\n",
       "      <td>False</td>\n",
       "    </tr>\n",
       "    <tr>\n",
       "      <td>3</td>\n",
       "      <td>0.0</td>\n",
       "      <td>0.0</td>\n",
       "      <td>0.0</td>\n",
       "      <td>0.0</td>\n",
       "      <td>2.0</td>\n",
       "      <td>2.666667</td>\n",
       "      <td>0.05</td>\n",
       "      <td>0.14</td>\n",
       "      <td>0.0</td>\n",
       "      <td>0.0</td>\n",
       "      <td>Feb</td>\n",
       "      <td>3</td>\n",
       "      <td>2</td>\n",
       "      <td>2</td>\n",
       "      <td>4</td>\n",
       "      <td>Returning_Visitor</td>\n",
       "      <td>False</td>\n",
       "      <td>False</td>\n",
       "    </tr>\n",
       "    <tr>\n",
       "      <td>4</td>\n",
       "      <td>0.0</td>\n",
       "      <td>0.0</td>\n",
       "      <td>0.0</td>\n",
       "      <td>0.0</td>\n",
       "      <td>10.0</td>\n",
       "      <td>627.500000</td>\n",
       "      <td>0.02</td>\n",
       "      <td>0.05</td>\n",
       "      <td>0.0</td>\n",
       "      <td>0.0</td>\n",
       "      <td>Feb</td>\n",
       "      <td>3</td>\n",
       "      <td>3</td>\n",
       "      <td>1</td>\n",
       "      <td>4</td>\n",
       "      <td>Returning_Visitor</td>\n",
       "      <td>True</td>\n",
       "      <td>False</td>\n",
       "    </tr>\n",
       "  </tbody>\n",
       "</table>\n",
       "</div>"
      ],
      "text/plain": [
       "   Administrative  Administrative_Duration  Informational  \\\n",
       "0             0.0                      0.0            0.0   \n",
       "1             0.0                      0.0            0.0   \n",
       "2             0.0                     -1.0            0.0   \n",
       "3             0.0                      0.0            0.0   \n",
       "4             0.0                      0.0            0.0   \n",
       "\n",
       "   Informational_Duration  ProductRelated  ProductRelated_Duration  \\\n",
       "0                     0.0             1.0                 0.000000   \n",
       "1                     0.0             2.0                64.000000   \n",
       "2                    -1.0             1.0                -1.000000   \n",
       "3                     0.0             2.0                 2.666667   \n",
       "4                     0.0            10.0               627.500000   \n",
       "\n",
       "   BounceRates  ExitRates  PageValues  SpecialDay Month  OperatingSystems  \\\n",
       "0         0.20       0.20         0.0         0.0   Feb                 1   \n",
       "1         0.00       0.10         0.0         0.0   Feb                 2   \n",
       "2         0.20       0.20         0.0         0.0   Feb                 4   \n",
       "3         0.05       0.14         0.0         0.0   Feb                 3   \n",
       "4         0.02       0.05         0.0         0.0   Feb                 3   \n",
       "\n",
       "   Browser  Region  TrafficType        VisitorType  Weekend  Revenue  \n",
       "0        1       1            1  Returning_Visitor    False    False  \n",
       "1        2       1            2  Returning_Visitor    False    False  \n",
       "2        1       9            3  Returning_Visitor    False    False  \n",
       "3        2       2            4  Returning_Visitor    False    False  \n",
       "4        3       1            4  Returning_Visitor     True    False  "
      ]
     },
     "execution_count": 675,
     "metadata": {},
     "output_type": "execute_result"
    }
   ],
   "source": [
    "df_original = pd.read_csv('online_shoppers_intention.csv')\n",
    "df_original.head()"
   ]
  },
  {
   "cell_type": "code",
   "execution_count": 676,
   "metadata": {},
   "outputs": [],
   "source": [
    "df_original.dropna(inplace=True)"
   ]
  },
  {
   "cell_type": "code",
   "execution_count": 677,
   "metadata": {
    "scrolled": true
   },
   "outputs": [
    {
     "name": "stdout",
     "output_type": "stream",
     "text": [
      "All False baseline model gives us 0.845\n"
     ]
    }
   ],
   "source": [
    "print('All False baseline model gives us',round(df_original['Revenue'].value_counts()[0]/df_original.shape[0],3))"
   ]
  },
  {
   "cell_type": "markdown",
   "metadata": {},
   "source": [
    "# Data Visualization"
   ]
  },
  {
   "cell_type": "code",
   "execution_count": 678,
   "metadata": {},
   "outputs": [
    {
     "data": {
      "text/plain": [
       "Administrative               27\n",
       "Administrative_Duration    3336\n",
       "Informational                17\n",
       "Informational_Duration     1259\n",
       "ProductRelated              311\n",
       "ProductRelated_Duration    9552\n",
       "BounceRates                1872\n",
       "ExitRates                  4777\n",
       "PageValues                 2704\n",
       "SpecialDay                    6\n",
       "Month                        10\n",
       "OperatingSystems              8\n",
       "Browser                      13\n",
       "Region                        9\n",
       "TrafficType                  20\n",
       "VisitorType                   3\n",
       "Weekend                       2\n",
       "Revenue                       2\n",
       "dtype: int64"
      ]
     },
     "execution_count": 678,
     "metadata": {},
     "output_type": "execute_result"
    }
   ],
   "source": [
    "df_original.nunique()"
   ]
  },
  {
   "cell_type": "code",
   "execution_count": 679,
   "metadata": {},
   "outputs": [],
   "source": [
    "df = df_original.copy()\n",
    "continuous = []\n",
    "categorical = []\n",
    "for c in df.columns[:-1]:\n",
    "#    print(df.nunique()[c])\n",
    "    if df.nunique()[c] >= 30:\n",
    "        continuous.append(c)\n",
    "    else:\n",
    "        categorical.append(c)\n",
    "        "
   ]
  },
  {
   "cell_type": "code",
   "execution_count": 302,
   "metadata": {},
   "outputs": [
    {
     "data": {
      "image/png": "[encoded data removed]",
      "text/plain": [
       "<Figure size 864x576 with 7 Axes>"
      ]
     },
     "metadata": {
      "needs_background": "light"
     },
     "output_type": "display_data"
    }
   ],
   "source": [
    "fig = plt.figure(figsize=(12,8))\n",
    "\n",
    "for i,col in enumerate(continuous):\n",
    "    plt.subplot(3,3,i+1);\n",
    "    df.boxplot(col);\n",
    "    plt.tight_layout()\n",
    "plt.savefig('Figures/boxplot.png')"
   ]
  },
  {
   "cell_type": "markdown",
   "metadata": {},
   "source": [
    "### Log transforming the continnuous variables"
   ]
  },
  {
   "cell_type": "code",
   "execution_count": 303,
   "metadata": {},
   "outputs": [],
   "source": [
    "df[continuous] = np.log1p(1+df[continuous])"
   ]
  },
  {
   "cell_type": "code",
   "execution_count": 304,
   "metadata": {},
   "outputs": [
    {
     "data": {
      "image/png": "[encoded data removed]",
      "text/plain": [
       "<Figure size 864x576 with 7 Axes>"
      ]
     },
     "metadata": {
      "needs_background": "light"
     },
     "output_type": "display_data"
    }
   ],
   "source": [
    "fig = plt.figure(figsize=(12,8))\n",
    "\n",
    "for i,col in enumerate(continuous):\n",
    "    plt.subplot(3,3,i+1);\n",
    "    sns.distplot(df_True[col]);\n",
    "    sns.distplot(df_False[col]);\n",
    "    plt.tight_layout()\n",
    "plt.savefig('Figures/distplot.png')"
   ]
  },
  {
   "cell_type": "code",
   "execution_count": 306,
   "metadata": {
    "scrolled": true
   },
   "outputs": [
    {
     "data": {
      "image/png": "[encoded data removed]",
      "text/plain": [
       "<Figure size 864x1440 with 10 Axes>"
      ]
     },
     "metadata": {
      "needs_background": "light"
     },
     "output_type": "display_data"
    }
   ],
   "source": [
    "fig, axes = plt.subplots(5,2, figsize=(12,20))\n",
    "axes = axes.ravel()\n",
    "for i,col in enumerate(categorical):\n",
    "    df2 = df.groupby([col, 'Revenue'])[col].count().unstack('Revenue').fillna(0)\n",
    "    df2['False_rate'] = df2[False]/(df2[False]+df2[True])\n",
    "    df2['True_rate'] = df2[True]/(df2[False]+df2[True])\n",
    "    df2[['False_rate','True_rate']].plot(kind='bar',stacked=True,ax=axes[i])\n",
    "plt.tight_layout()\n",
    "plt.savefig('Figures/category_ratio.png')"
   ]
  },
  {
   "cell_type": "markdown",
   "metadata": {},
   "source": [
    "## Naive Bayesian Analysis"
   ]
  },
  {
   "cell_type": "code",
   "execution_count": 442,
   "metadata": {},
   "outputs": [],
   "source": [
    "def Likelihood_cont(df,col,target_col,target,bins=10):\n",
    "    \"\"\"Calculating likelihood of continous features.\"\"\"\n",
    "    set_bins = np.histogram(df[col],bins=bins)[1]\n",
    "    prob_list = []\n",
    "    for t in target:\n",
    "        l = df[df[target_col]==t][col]\n",
    "        prob_list.append(np.histogram(l,bins=set_bins)[0]/l.shape[0])\n",
    "    return set_bins,prob_list"
   ]
  },
  {
   "cell_type": "code",
   "execution_count": 465,
   "metadata": {},
   "outputs": [],
   "source": [
    "def Likelihood_cat(df,col,target_col,target):\n",
    "    \"\"\"Calculating likelihood of categorical features.\"\"\"\n",
    "    set_bins = df[col].unique()\n",
    "    prob_list = []\n",
    "    for t in target:\n",
    "        l = df[df[target_col]==t][col]\n",
    "        pl = []\n",
    "        for sb in set_bins:\n",
    "            pl.append((l==sb).sum()/len(l))\n",
    "        prob_list.append(pl)\n",
    "    return set_bins,prob_list"
   ]
  },
  {
   "cell_type": "code",
   "execution_count": 581,
   "metadata": {},
   "outputs": [
    {
     "data": {
      "text/plain": [
       "(array([ 0.,  1.,  2.,  4., 16.,  5.,  3., 14.,  6., 12.,  7.,  9., 10.,\n",
       "         8., 11., 24., 13.]),\n",
       " [[0.6787211740041929,\n",
       "   0.12368972746331237,\n",
       "   0.08071278825995808,\n",
       "   0.03249475890985325,\n",
       "   0.0,\n",
       "   0.016247379454926623,\n",
       "   0.04874213836477988,\n",
       "   0.0,\n",
       "   0.00890985324947589,\n",
       "   0.0010482180293501049,\n",
       "   0.0031446540880503146,\n",
       "   0.0031446540880503146,\n",
       "   0.0010482180293501049,\n",
       "   0.0020964360587002098,\n",
       "   0.0,\n",
       "   0.0,\n",
       "   0.0],\n",
       "  [0.806206764027671,\n",
       "   0.07734435049961567,\n",
       "   0.05505380476556495,\n",
       "   0.015372790161414296,\n",
       "   9.607993850883935e-05,\n",
       "   0.0065334358186010764,\n",
       "   0.027574942352036894,\n",
       "   0.0001921598770176787,\n",
       "   0.005860876249039201,\n",
       "   0.00028823981552651804,\n",
       "   0.0028823981552651805,\n",
       "   0.0008647194465795542,\n",
       "   0.00048039969254419675,\n",
       "   0.0009607993850883935,\n",
       "   9.607993850883935e-05,\n",
       "   9.607993850883935e-05,\n",
       "   9.607993850883935e-05]])"
      ]
     },
     "execution_count": 581,
     "metadata": {},
     "output_type": "execute_result"
    }
   ],
   "source": [
    "Likelihood_cat(df,'Informational','Revenue',[True,False])"
   ]
  },
  {
   "cell_type": "code",
   "execution_count": 643,
   "metadata": {},
   "outputs": [],
   "source": [
    "X_train, X_test, y_train, y_test = train_test_split(df[continuous], df['Revenue'], test_size=0.3)"
   ]
  },
  {
   "cell_type": "code",
   "execution_count": 644,
   "metadata": {},
   "outputs": [],
   "source": [
    "df_train_cont = X_train.join(y_train)\n",
    "df_test_cont = X_test.join(y_test)"
   ]
  },
  {
   "cell_type": "code",
   "execution_count": 663,
   "metadata": {},
   "outputs": [],
   "source": [
    "list_of_bins = []\n",
    "list_of_probs = []\n",
    "cont_bins=100\n",
    "for c in continuous:\n",
    "    if c in continuous:\n",
    "        b,probs = Likelihood_cont(df_train_cont,c,'Revenue',[True,False],bins=cont_bins)\n",
    "#    else:\n",
    "#        b,probs = Likelihood_cat(df_train_cont,c,'Revenue',[True,False])\n",
    "    list_of_bins.append(b)\n",
    "    list_of_probs.append(probs)"
   ]
  },
  {
   "cell_type": "code",
   "execution_count": 664,
   "metadata": {},
   "outputs": [],
   "source": [
    "score_cont = []\n",
    "for c_idx,c in enumerate(continuous):\n",
    "    b = list_of_bins[c_idx]\n",
    "    probs = list_of_probs[c_idx]\n",
    "    p_true = []\n",
    "    p_false = []\n",
    "    for i in range(df_test_cont.shape[0]):\n",
    "        bin_idx = (b < df_test_cont[c].iloc[i]).sum()-1\n",
    "        if bin_idx < 0:\n",
    "            bin_idx=0\n",
    "        if bin_idx > (cont_bins-1):\n",
    "            bin_idx = (cont_bins-1)\n",
    "        p_true.append(probs[0][bin_idx])\n",
    "        p_false.append(probs[1][bin_idx])\n",
    "    r = (np.array(p_true)*0.15 > np.array(p_false)*0.85)\n",
    "    score = (r==y_test).sum()/len(y_test)\n",
    "#    print(c,r.sum(),y_test.sum())\n",
    "    score_cont.append([c,score])"
   ]
  },
  {
   "cell_type": "code",
   "execution_count": 665,
   "metadata": {},
   "outputs": [
    {
     "data": {
      "text/plain": [
       "[['Administrative_Duration', 0.8387009472259811],\n",
       " ['Informational_Duration', 0.8368064952638701],\n",
       " ['ProductRelated', 0.8376184032476319],\n",
       " ['ProductRelated_Duration', 0.8381596752368065],\n",
       " ['BounceRates', 0.8387009472259811],\n",
       " ['ExitRates', 0.8387009472259811],\n",
       " ['PageValues', 0.8860622462787551]]"
      ]
     },
     "execution_count": 665,
     "metadata": {},
     "output_type": "execute_result"
    }
   ],
   "source": [
    "score_cont"
   ]
  },
  {
   "cell_type": "code",
   "execution_count": 669,
   "metadata": {},
   "outputs": [],
   "source": [
    "X_train, X_test, y_train, y_test = train_test_split(df[categorical], df['Revenue'], test_size=0.3)\n",
    "df_train_cat = X_train.join(y_train)\n",
    "df_test_cat = X_test.join(y_test)\n",
    "\n",
    "list_of_bins = []\n",
    "list_of_probs = []\n",
    "for c in categorical:\n",
    "    if c in categorical:\n",
    "        b,probs = Likelihood_cat(df_train_cat,c,'Revenue',[True,False])\n",
    "    list_of_bins.append(b)\n",
    "    list_of_probs.append(probs)"
   ]
  },
  {
   "cell_type": "code",
   "execution_count": 670,
   "metadata": {},
   "outputs": [],
   "source": [
    "score_cat = []\n",
    "for c_idx,c in enumerate(categorical):\n",
    "    b = list_of_bins[c_idx]\n",
    "    probs = list_of_probs[c_idx]\n",
    "    p_true = []\n",
    "    p_false = []\n",
    "    for i in range(df_test_cont.shape[0]):\n",
    "        try:\n",
    "            bin_idx = np.where(b==df_test_cat[c].iloc[i])[0][0]\n",
    "    #        print(bin_idx)\n",
    "            pt = probs[0][bin_idx]\n",
    "            pf = probs[1][bin_idx]\n",
    "        except:\n",
    "            pt=1\n",
    "            pf=1\n",
    "        p_true.append(pt)\n",
    "        p_false.append(pf)\n",
    "    r = (np.array(p_true)*0.15 > np.array(p_false)*0.85)\n",
    "    score = (r==y_test).sum()/len(y_test)\n",
    "#    print(c,r.sum(),y_test.sum())\n",
    "    score_cat.append([c,score])"
   ]
  },
  {
   "cell_type": "code",
   "execution_count": 671,
   "metadata": {},
   "outputs": [
    {
     "data": {
      "text/plain": [
       "[['Administrative', 0.8495263870094723],\n",
       " ['Informational', 0.8495263870094723],\n",
       " ['SpecialDay', 0.8495263870094723],\n",
       " ['Month', 0.8495263870094723],\n",
       " ['OperatingSystems', 0.8495263870094723],\n",
       " ['Browser', 0.8495263870094723],\n",
       " ['Region', 0.8495263870094723],\n",
       " ['TrafficType', 0.8495263870094723],\n",
       " ['VisitorType', 0.8495263870094723],\n",
       " ['Weekend', 0.8495263870094723]]"
      ]
     },
     "execution_count": 671,
     "metadata": {},
     "output_type": "execute_result"
    }
   ],
   "source": [
    "score_cat"
   ]
  },
  {
   "cell_type": "code",
   "execution_count": 609,
   "metadata": {},
   "outputs": [],
   "source": [
    "p_true = []\n",
    "p_false = []\n",
    "for i in range(df_test_cont.shape[0]):\n",
    "    pt=1\n",
    "    pf=1\n",
    "    for c_idx,c in enumerate(continuous):\n",
    "#        pt = 1\n",
    "#        pf = 1\n",
    "        b = list_of_bins[c_idx]\n",
    "        probs = list_of_probs[c_idx]\n",
    "    #        print(len(b),len(probs[0]))\n",
    "        bin_idx = (b < df_test_cont[c].iloc[i]).sum()-1\n",
    "        if bin_idx < 0:\n",
    "            bin_idx=0\n",
    "        if bin_idx > (30-1):\n",
    "            bin_idx = (30-1)\n",
    "        pt = pt*probs[0][bin_idx]\n",
    "        pf = pf*probs[1][bin_idx]\n",
    "    p_true.append(pt)\n",
    "    p_false.append(pf)"
   ]
  },
  {
   "cell_type": "code",
   "execution_count": 612,
   "metadata": {},
   "outputs": [
    {
     "data": {
      "text/plain": [
       "0.8641407307171853"
      ]
     },
     "execution_count": 612,
     "metadata": {},
     "output_type": "execute_result"
    }
   ],
   "source": [
    "(r==y_test).sum()/len(y_test)"
   ]
  },
  {
   "cell_type": "code",
   "execution_count": 622,
   "metadata": {},
   "outputs": [],
   "source": [
    "X_train, X_test, y_train, y_test = train_test_split(df[categorical], df['Revenue'], test_size=0.3)\n",
    "df_train_cat = X_train.join(y_train)\n",
    "df_test_cat = X_test.join(y_test)"
   ]
  },
  {
   "cell_type": "code",
   "execution_count": 623,
   "metadata": {},
   "outputs": [],
   "source": [
    "list_of_bins = []\n",
    "list_of_probs = []\n",
    "for c in categorical:\n",
    "    if c in categorical:\n",
    "        b,probs = Likelihood_cat(df_train_cat,c,'Revenue',[True,False])\n",
    "    list_of_bins.append(b)\n",
    "    list_of_probs.append(probs)"
   ]
  },
  {
   "cell_type": "code",
   "execution_count": 624,
   "metadata": {},
   "outputs": [],
   "source": [
    "p_true = []\n",
    "p_false = []\n",
    "for i in range(df_test_cat.shape[0]):\n",
    "    pt=1\n",
    "    pf=1\n",
    "    for c_idx,c in enumerate(categorical):\n",
    "#        print(c)\n",
    "#        pt = 1\n",
    "#        pf = 1\n",
    "        b = list_of_bins[c_idx]\n",
    "        probs = list_of_probs[c_idx]\n",
    "    #        print(len(b),len(probs[0]))\n",
    "        try:\n",
    "            bin_idx = np.where(b==df_test_cat[c].iloc[i])[0][0]\n",
    "    #        print(bin_idx)\n",
    "            pt = pt*probs[0][bin_idx]\n",
    "            pf = pf*probs[1][bin_idx]\n",
    "        except:\n",
    "            pt=pt\n",
    "            pf=pf\n",
    "    p_true.append(pt)\n",
    "    p_false.append(pf)"
   ]
  },
  {
   "cell_type": "code",
   "execution_count": 625,
   "metadata": {},
   "outputs": [],
   "source": [
    "r = (np.array(p_true)*0.15 > np.array(p_false)*0.85)"
   ]
  },
  {
   "cell_type": "code",
   "execution_count": 626,
   "metadata": {
    "scrolled": false
   },
   "outputs": [
    {
     "data": {
      "text/plain": [
       "0.8216508795669825"
      ]
     },
     "execution_count": 626,
     "metadata": {},
     "output_type": "execute_result"
    }
   ],
   "source": [
    "(r==y_test).sum()/len(y_test)"
   ]
  },
  {
   "cell_type": "markdown",
   "metadata": {},
   "source": [
    "## Logistic Regression"
   ]
  },
  {
   "cell_type": "markdown",
   "metadata": {},
   "source": [
    "### Starting with Logistic Regression as a first estimator"
   ]
  },
  {
   "cell_type": "code",
   "execution_count": 721,
   "metadata": {},
   "outputs": [
    {
     "data": {
      "text/plain": [
       "Administrative             float64\n",
       "Administrative_Duration    float64\n",
       "Informational              float64\n",
       "Informational_Duration     float64\n",
       "ProductRelated             float64\n",
       "ProductRelated_Duration    float64\n",
       "BounceRates                float64\n",
       "ExitRates                  float64\n",
       "PageValues                 float64\n",
       "SpecialDay                 float64\n",
       "Month                       object\n",
       "OperatingSystems             int64\n",
       "Browser                      int64\n",
       "Region                       int64\n",
       "TrafficType                  int64\n",
       "VisitorType                 object\n",
       "Weekend                       bool\n",
       "Revenue                       bool\n",
       "dtype: object"
      ]
     },
     "execution_count": 721,
     "metadata": {},
     "output_type": "execute_result"
    }
   ],
   "source": [
    "df_original.dtypes"
   ]
  },
  {
   "cell_type": "code",
   "execution_count": 712,
   "metadata": {},
   "outputs": [
    {
     "data": {
      "text/plain": [
       "Index(['Administrative', 'Administrative_Duration', 'Informational',\n",
       "       'Informational_Duration', 'ProductRelated', 'ProductRelated_Duration',\n",
       "       'BounceRates', 'ExitRates', 'PageValues', 'SpecialDay', 'Month',\n",
       "       'OperatingSystems', 'Browser', 'Region', 'TrafficType', 'VisitorType',\n",
       "       'Weekend', 'Revenue'],\n",
       "      dtype='object')"
      ]
     },
     "execution_count": 712,
     "metadata": {},
     "output_type": "execute_result"
    }
   ],
   "source": [
    "df_original.columns"
   ]
  },
  {
   "cell_type": "code",
   "execution_count": 770,
   "metadata": {},
   "outputs": [],
   "source": [
    "def plot_corr(data):\n",
    "    corrmat = data.corr()\n",
    "    f, ax = plt.subplots(figsize=(10, 10))\n",
    "    sns.heatmap(corrmat, vmax=1., square=True);\n",
    "    k = data.shape[1] #number of variables for heatmap\n",
    "    cols = corrmat.nlargest(k, 'Revenue')['Revenue'].index\n",
    "    print(data[cols].values.T)\n",
    "    cm = np.corrcoef(data[cols].values.T)\n",
    "    sns.set(font_scale=1.25)\n",
    "    hm = sns.heatmap(cm, cbar=False, annot=True, square=True, fmt='.2f', annot_kws={'size': 10}, yticklabels=cols.values, xticklabels=cols.values)\n",
    "    return cols"
   ]
  },
  {
   "cell_type": "code",
   "execution_count": 773,
   "metadata": {},
   "outputs": [
    {
     "data": {
      "text/plain": [
       "<matplotlib.axes._subplots.AxesSubplot at 0x29841421b08>"
      ]
     },
     "execution_count": 773,
     "metadata": {},
     "output_type": "execute_result"
    },
    {
     "data": {
      "image/png": "[encoded data removed]",
      "text/plain": [
       "<Figure size 432x288 with 2 Axes>"
      ]
     },
     "metadata": {
      "needs_background": "light"
     },
     "output_type": "display_data"
    }
   ],
   "source": [
    "sns.heatmap(df_original[['Administrative', 'Administrative_Duration', 'Informational',\n",
    "       'Informational_Duration', 'ProductRelated', 'ProductRelated_Duration',\n",
    "       'BounceRates', 'ExitRates', 'PageValues','Revenue']].corr(),vmax=1.,square=True)"
   ]
  },
  {
   "cell_type": "code",
   "execution_count": 722,
   "metadata": {},
   "outputs": [],
   "source": [
    "df = pd.get_dummies(df_original,columns=['SpecialDay', 'Month',\n",
    "       'OperatingSystems', 'Browser', 'Region', 'TrafficType', 'VisitorType',\n",
    "       'Weekend'],drop_first=True)"
   ]
  },
  {
   "cell_type": "code",
   "execution_count": 724,
   "metadata": {},
   "outputs": [
    {
     "data": {
      "text/plain": [
       "(12316, 73)"
      ]
     },
     "execution_count": 724,
     "metadata": {},
     "output_type": "execute_result"
    }
   ],
   "source": [
    "df.shape"
   ]
  },
  {
   "cell_type": "code",
   "execution_count": 725,
   "metadata": {},
   "outputs": [
    {
     "data": {
      "text/html": [
       "<div>\n",
       "<style scoped>\n",
       "    .dataframe tbody tr th:only-of-type {\n",
       "        vertical-align: middle;\n",
       "    }\n",
       "\n",
       "    .dataframe tbody tr th {\n",
       "        vertical-align: top;\n",
       "    }\n",
       "\n",
       "    .dataframe thead th {\n",
       "        text-align: right;\n",
       "    }\n",
       "</style>\n",
       "<table border=\"1\" class=\"dataframe\">\n",
       "  <thead>\n",
       "    <tr style=\"text-align: right;\">\n",
       "      <th></th>\n",
       "      <th>Administrative</th>\n",
       "      <th>Administrative_Duration</th>\n",
       "      <th>Informational</th>\n",
       "      <th>Informational_Duration</th>\n",
       "      <th>ProductRelated</th>\n",
       "      <th>ProductRelated_Duration</th>\n",
       "      <th>BounceRates</th>\n",
       "      <th>ExitRates</th>\n",
       "      <th>PageValues</th>\n",
       "      <th>Revenue</th>\n",
       "      <th>...</th>\n",
       "      <th>TrafficType_14</th>\n",
       "      <th>TrafficType_15</th>\n",
       "      <th>TrafficType_16</th>\n",
       "      <th>TrafficType_17</th>\n",
       "      <th>TrafficType_18</th>\n",
       "      <th>TrafficType_19</th>\n",
       "      <th>TrafficType_20</th>\n",
       "      <th>VisitorType_Other</th>\n",
       "      <th>VisitorType_Returning_Visitor</th>\n",
       "      <th>Weekend_True</th>\n",
       "    </tr>\n",
       "  </thead>\n",
       "  <tbody>\n",
       "    <tr>\n",
       "      <td>0</td>\n",
       "      <td>0.0</td>\n",
       "      <td>0.0</td>\n",
       "      <td>0.0</td>\n",
       "      <td>0.0</td>\n",
       "      <td>1.0</td>\n",
       "      <td>0.000000</td>\n",
       "      <td>0.200000</td>\n",
       "      <td>0.200000</td>\n",
       "      <td>0.000000</td>\n",
       "      <td>False</td>\n",
       "      <td>...</td>\n",
       "      <td>0</td>\n",
       "      <td>0</td>\n",
       "      <td>0</td>\n",
       "      <td>0</td>\n",
       "      <td>0</td>\n",
       "      <td>0</td>\n",
       "      <td>0</td>\n",
       "      <td>0</td>\n",
       "      <td>1</td>\n",
       "      <td>0</td>\n",
       "    </tr>\n",
       "    <tr>\n",
       "      <td>1</td>\n",
       "      <td>0.0</td>\n",
       "      <td>0.0</td>\n",
       "      <td>0.0</td>\n",
       "      <td>0.0</td>\n",
       "      <td>2.0</td>\n",
       "      <td>64.000000</td>\n",
       "      <td>0.000000</td>\n",
       "      <td>0.100000</td>\n",
       "      <td>0.000000</td>\n",
       "      <td>False</td>\n",
       "      <td>...</td>\n",
       "      <td>0</td>\n",
       "      <td>0</td>\n",
       "      <td>0</td>\n",
       "      <td>0</td>\n",
       "      <td>0</td>\n",
       "      <td>0</td>\n",
       "      <td>0</td>\n",
       "      <td>0</td>\n",
       "      <td>1</td>\n",
       "      <td>0</td>\n",
       "    </tr>\n",
       "    <tr>\n",
       "      <td>2</td>\n",
       "      <td>0.0</td>\n",
       "      <td>-1.0</td>\n",
       "      <td>0.0</td>\n",
       "      <td>-1.0</td>\n",
       "      <td>1.0</td>\n",
       "      <td>-1.000000</td>\n",
       "      <td>0.200000</td>\n",
       "      <td>0.200000</td>\n",
       "      <td>0.000000</td>\n",
       "      <td>False</td>\n",
       "      <td>...</td>\n",
       "      <td>0</td>\n",
       "      <td>0</td>\n",
       "      <td>0</td>\n",
       "      <td>0</td>\n",
       "      <td>0</td>\n",
       "      <td>0</td>\n",
       "      <td>0</td>\n",
       "      <td>0</td>\n",
       "      <td>1</td>\n",
       "      <td>0</td>\n",
       "    </tr>\n",
       "    <tr>\n",
       "      <td>3</td>\n",
       "      <td>0.0</td>\n",
       "      <td>0.0</td>\n",
       "      <td>0.0</td>\n",
       "      <td>0.0</td>\n",
       "      <td>2.0</td>\n",
       "      <td>2.666667</td>\n",
       "      <td>0.050000</td>\n",
       "      <td>0.140000</td>\n",
       "      <td>0.000000</td>\n",
       "      <td>False</td>\n",
       "      <td>...</td>\n",
       "      <td>0</td>\n",
       "      <td>0</td>\n",
       "      <td>0</td>\n",
       "      <td>0</td>\n",
       "      <td>0</td>\n",
       "      <td>0</td>\n",
       "      <td>0</td>\n",
       "      <td>0</td>\n",
       "      <td>1</td>\n",
       "      <td>0</td>\n",
       "    </tr>\n",
       "    <tr>\n",
       "      <td>4</td>\n",
       "      <td>0.0</td>\n",
       "      <td>0.0</td>\n",
       "      <td>0.0</td>\n",
       "      <td>0.0</td>\n",
       "      <td>10.0</td>\n",
       "      <td>627.500000</td>\n",
       "      <td>0.020000</td>\n",
       "      <td>0.050000</td>\n",
       "      <td>0.000000</td>\n",
       "      <td>False</td>\n",
       "      <td>...</td>\n",
       "      <td>0</td>\n",
       "      <td>0</td>\n",
       "      <td>0</td>\n",
       "      <td>0</td>\n",
       "      <td>0</td>\n",
       "      <td>0</td>\n",
       "      <td>0</td>\n",
       "      <td>0</td>\n",
       "      <td>1</td>\n",
       "      <td>1</td>\n",
       "    </tr>\n",
       "    <tr>\n",
       "      <td>...</td>\n",
       "      <td>...</td>\n",
       "      <td>...</td>\n",
       "      <td>...</td>\n",
       "      <td>...</td>\n",
       "      <td>...</td>\n",
       "      <td>...</td>\n",
       "      <td>...</td>\n",
       "      <td>...</td>\n",
       "      <td>...</td>\n",
       "      <td>...</td>\n",
       "      <td>...</td>\n",
       "      <td>...</td>\n",
       "      <td>...</td>\n",
       "      <td>...</td>\n",
       "      <td>...</td>\n",
       "      <td>...</td>\n",
       "      <td>...</td>\n",
       "      <td>...</td>\n",
       "      <td>...</td>\n",
       "      <td>...</td>\n",
       "      <td>...</td>\n",
       "    </tr>\n",
       "    <tr>\n",
       "      <td>12325</td>\n",
       "      <td>3.0</td>\n",
       "      <td>145.0</td>\n",
       "      <td>0.0</td>\n",
       "      <td>0.0</td>\n",
       "      <td>53.0</td>\n",
       "      <td>1783.791667</td>\n",
       "      <td>0.007143</td>\n",
       "      <td>0.029031</td>\n",
       "      <td>12.241717</td>\n",
       "      <td>False</td>\n",
       "      <td>...</td>\n",
       "      <td>0</td>\n",
       "      <td>0</td>\n",
       "      <td>0</td>\n",
       "      <td>0</td>\n",
       "      <td>0</td>\n",
       "      <td>0</td>\n",
       "      <td>0</td>\n",
       "      <td>0</td>\n",
       "      <td>1</td>\n",
       "      <td>1</td>\n",
       "    </tr>\n",
       "    <tr>\n",
       "      <td>12326</td>\n",
       "      <td>0.0</td>\n",
       "      <td>0.0</td>\n",
       "      <td>0.0</td>\n",
       "      <td>0.0</td>\n",
       "      <td>5.0</td>\n",
       "      <td>465.750000</td>\n",
       "      <td>0.000000</td>\n",
       "      <td>0.021333</td>\n",
       "      <td>0.000000</td>\n",
       "      <td>False</td>\n",
       "      <td>...</td>\n",
       "      <td>0</td>\n",
       "      <td>0</td>\n",
       "      <td>0</td>\n",
       "      <td>0</td>\n",
       "      <td>0</td>\n",
       "      <td>0</td>\n",
       "      <td>0</td>\n",
       "      <td>0</td>\n",
       "      <td>1</td>\n",
       "      <td>1</td>\n",
       "    </tr>\n",
       "    <tr>\n",
       "      <td>12327</td>\n",
       "      <td>0.0</td>\n",
       "      <td>0.0</td>\n",
       "      <td>0.0</td>\n",
       "      <td>0.0</td>\n",
       "      <td>6.0</td>\n",
       "      <td>184.250000</td>\n",
       "      <td>0.083333</td>\n",
       "      <td>0.086667</td>\n",
       "      <td>0.000000</td>\n",
       "      <td>False</td>\n",
       "      <td>...</td>\n",
       "      <td>0</td>\n",
       "      <td>0</td>\n",
       "      <td>0</td>\n",
       "      <td>0</td>\n",
       "      <td>0</td>\n",
       "      <td>0</td>\n",
       "      <td>0</td>\n",
       "      <td>0</td>\n",
       "      <td>1</td>\n",
       "      <td>1</td>\n",
       "    </tr>\n",
       "    <tr>\n",
       "      <td>12328</td>\n",
       "      <td>4.0</td>\n",
       "      <td>75.0</td>\n",
       "      <td>0.0</td>\n",
       "      <td>0.0</td>\n",
       "      <td>15.0</td>\n",
       "      <td>346.000000</td>\n",
       "      <td>0.000000</td>\n",
       "      <td>0.021053</td>\n",
       "      <td>0.000000</td>\n",
       "      <td>False</td>\n",
       "      <td>...</td>\n",
       "      <td>0</td>\n",
       "      <td>0</td>\n",
       "      <td>0</td>\n",
       "      <td>0</td>\n",
       "      <td>0</td>\n",
       "      <td>0</td>\n",
       "      <td>0</td>\n",
       "      <td>0</td>\n",
       "      <td>1</td>\n",
       "      <td>0</td>\n",
       "    </tr>\n",
       "    <tr>\n",
       "      <td>12329</td>\n",
       "      <td>0.0</td>\n",
       "      <td>0.0</td>\n",
       "      <td>0.0</td>\n",
       "      <td>0.0</td>\n",
       "      <td>3.0</td>\n",
       "      <td>21.250000</td>\n",
       "      <td>0.000000</td>\n",
       "      <td>0.066667</td>\n",
       "      <td>0.000000</td>\n",
       "      <td>False</td>\n",
       "      <td>...</td>\n",
       "      <td>0</td>\n",
       "      <td>0</td>\n",
       "      <td>0</td>\n",
       "      <td>0</td>\n",
       "      <td>0</td>\n",
       "      <td>0</td>\n",
       "      <td>0</td>\n",
       "      <td>0</td>\n",
       "      <td>0</td>\n",
       "      <td>1</td>\n",
       "    </tr>\n",
       "  </tbody>\n",
       "</table>\n",
       "<p>12316 rows × 73 columns</p>\n",
       "</div>"
      ],
      "text/plain": [
       "       Administrative  Administrative_Duration  Informational  \\\n",
       "0                 0.0                      0.0            0.0   \n",
       "1                 0.0                      0.0            0.0   \n",
       "2                 0.0                     -1.0            0.0   \n",
       "3                 0.0                      0.0            0.0   \n",
       "4                 0.0                      0.0            0.0   \n",
       "...               ...                      ...            ...   \n",
       "12325             3.0                    145.0            0.0   \n",
       "12326             0.0                      0.0            0.0   \n",
       "12327             0.0                      0.0            0.0   \n",
       "12328             4.0                     75.0            0.0   \n",
       "12329             0.0                      0.0            0.0   \n",
       "\n",
       "       Informational_Duration  ProductRelated  ProductRelated_Duration  \\\n",
       "0                         0.0             1.0                 0.000000   \n",
       "1                         0.0             2.0                64.000000   \n",
       "2                        -1.0             1.0                -1.000000   \n",
       "3                         0.0             2.0                 2.666667   \n",
       "4                         0.0            10.0               627.500000   \n",
       "...                       ...             ...                      ...   \n",
       "12325                     0.0            53.0              1783.791667   \n",
       "12326                     0.0             5.0               465.750000   \n",
       "12327                     0.0             6.0               184.250000   \n",
       "12328                     0.0            15.0               346.000000   \n",
       "12329                     0.0             3.0                21.250000   \n",
       "\n",
       "       BounceRates  ExitRates  PageValues  Revenue  ...  TrafficType_14  \\\n",
       "0         0.200000   0.200000    0.000000    False  ...               0   \n",
       "1         0.000000   0.100000    0.000000    False  ...               0   \n",
       "2         0.200000   0.200000    0.000000    False  ...               0   \n",
       "3         0.050000   0.140000    0.000000    False  ...               0   \n",
       "4         0.020000   0.050000    0.000000    False  ...               0   \n",
       "...            ...        ...         ...      ...  ...             ...   \n",
       "12325     0.007143   0.029031   12.241717    False  ...               0   \n",
       "12326     0.000000   0.021333    0.000000    False  ...               0   \n",
       "12327     0.083333   0.086667    0.000000    False  ...               0   \n",
       "12328     0.000000   0.021053    0.000000    False  ...               0   \n",
       "12329     0.000000   0.066667    0.000000    False  ...               0   \n",
       "\n",
       "       TrafficType_15  TrafficType_16  TrafficType_17  TrafficType_18  \\\n",
       "0                   0               0               0               0   \n",
       "1                   0               0               0               0   \n",
       "2                   0               0               0               0   \n",
       "3                   0               0               0               0   \n",
       "4                   0               0               0               0   \n",
       "...               ...             ...             ...             ...   \n",
       "12325               0               0               0               0   \n",
       "12326               0               0               0               0   \n",
       "12327               0               0               0               0   \n",
       "12328               0               0               0               0   \n",
       "12329               0               0               0               0   \n",
       "\n",
       "       TrafficType_19  TrafficType_20  VisitorType_Other  \\\n",
       "0                   0               0                  0   \n",
       "1                   0               0                  0   \n",
       "2                   0               0                  0   \n",
       "3                   0               0                  0   \n",
       "4                   0               0                  0   \n",
       "...               ...             ...                ...   \n",
       "12325               0               0                  0   \n",
       "12326               0               0                  0   \n",
       "12327               0               0                  0   \n",
       "12328               0               0                  0   \n",
       "12329               0               0                  0   \n",
       "\n",
       "       VisitorType_Returning_Visitor  Weekend_True  \n",
       "0                                  1             0  \n",
       "1                                  1             0  \n",
       "2                                  1             0  \n",
       "3                                  1             0  \n",
       "4                                  1             1  \n",
       "...                              ...           ...  \n",
       "12325                              1             1  \n",
       "12326                              1             1  \n",
       "12327                              1             1  \n",
       "12328                              1             0  \n",
       "12329                              0             1  \n",
       "\n",
       "[12316 rows x 73 columns]"
      ]
     },
     "execution_count": 725,
     "metadata": {},
     "output_type": "execute_result"
    }
   ],
   "source": [
    "df"
   ]
  },
  {
   "cell_type": "code",
   "execution_count": 864,
   "metadata": {},
   "outputs": [],
   "source": [
    "y = df.Revenue\n",
    "X = df.drop('Revenue',axis=1)"
   ]
  },
  {
   "cell_type": "code",
   "execution_count": 731,
   "metadata": {},
   "outputs": [],
   "source": [
    "scaler = StandardScaler()\n",
    "\n",
    "X = pd.DataFrame(scaler.fit_transform(X),columns=X.columns)"
   ]
  },
  {
   "cell_type": "code",
   "execution_count": 732,
   "metadata": {},
   "outputs": [],
   "source": [
    "X_train, X_test, y_train, y_test = train_test_split(X, y, random_state=0)"
   ]
  },
  {
   "cell_type": "code",
   "execution_count": 853,
   "metadata": {},
   "outputs": [],
   "source": [
    "logreg = LogisticRegression(fit_intercept=True, C=1, solver='liblinear',class_weight={0:1, 1:1})\n",
    "model_log = logreg.fit(X_train, y_train)"
   ]
  },
  {
   "cell_type": "code",
   "execution_count": 854,
   "metadata": {},
   "outputs": [
    {
     "data": {
      "text/plain": [
       "array([[ 0.0053046 , -0.00612805,  0.05447381, -0.00743232,  0.04083768,\n",
       "         0.13830798, -0.07423468, -0.76885287,  1.49949495, -0.03786188,\n",
       "        -0.07792252,  0.04736737, -0.04114311,  0.00274326, -0.24862543,\n",
       "        -0.17088458,  0.00438776, -0.02594673, -0.24649799, -0.27271643,\n",
       "         0.15008121, -0.02994146, -0.0072147 ,  0.07356149, -0.03649783,\n",
       "        -0.00539892,  0.00263322, -0.19360365,  0.03026895,  0.04780815,\n",
       "        -0.02054977, -0.1372485 , -0.02819026,  0.00277725, -0.0297219 ,\n",
       "         0.00830662,  0.03481645, -0.03576581,  0.00994291,  0.00263322,\n",
       "         0.05372043,  0.00927698,  0.0228416 , -0.01363018, -0.01825149,\n",
       "        -0.03755223, -0.01385869, -0.0342602 ,  0.00641617, -0.05825607,\n",
       "         0.10528563, -0.08761716,  0.04604705,  0.0431923 ,  0.0075833 ,\n",
       "         0.01881757,  0.1168303 ,  0.01196147,  0.09177349,  0.08225548,\n",
       "        -0.03447895, -0.14542847,  0.02542032, -0.23059767,  0.02882243,\n",
       "         0.02132618, -0.11839882, -0.16746049,  0.0448311 , -0.08713653,\n",
       "        -0.05604978,  0.06253602]])"
      ]
     },
     "execution_count": 854,
     "metadata": {},
     "output_type": "execute_result"
    }
   ],
   "source": [
    "model_log.coef_"
   ]
  },
  {
   "cell_type": "code",
   "execution_count": 855,
   "metadata": {},
   "outputs": [],
   "source": [
    "y_hat_test = logreg.predict(X_test)\n",
    "y_hat_train = logreg.predict(X_train)"
   ]
  },
  {
   "cell_type": "code",
   "execution_count": 856,
   "metadata": {},
   "outputs": [
    {
     "data": {
      "text/plain": [
       "array([0.88470283])"
      ]
     },
     "execution_count": 856,
     "metadata": {},
     "output_type": "execute_result"
    }
   ],
   "source": [
    "(y_hat_train==y_train).sum()/y_train.shape"
   ]
  },
  {
   "cell_type": "code",
   "execution_count": 857,
   "metadata": {},
   "outputs": [
    {
     "data": {
      "text/plain": [
       "array([0.88665151])"
      ]
     },
     "execution_count": 857,
     "metadata": {},
     "output_type": "execute_result"
    }
   ],
   "source": [
    "(y_hat_test == y_test).sum()/y_test.shape"
   ]
  },
  {
   "cell_type": "code",
   "execution_count": 858,
   "metadata": {},
   "outputs": [
    {
     "data": {
      "text/plain": [
       "array([[2551,   48],\n",
       "       [ 301,  179]], dtype=int64)"
      ]
     },
     "execution_count": 858,
     "metadata": {},
     "output_type": "execute_result"
    }
   ],
   "source": [
    "confusion_matrix(y_test,y_hat_test)"
   ]
  },
  {
   "cell_type": "code",
   "execution_count": 859,
   "metadata": {},
   "outputs": [
    {
     "name": "stdout",
     "output_type": "stream",
     "text": [
      "Test AUC: 0.8880955816339617\n",
      "Train AUC: 0.9006440711769405\n"
     ]
    },
    {
     "data": {
      "image/png": "[encoded data removed]",
      "text/plain": [
       "<Figure size 720x576 with 1 Axes>"
      ]
     },
     "metadata": {
      "needs_background": "light"
     },
     "output_type": "display_data"
    }
   ],
   "source": [
    "y_score_test = model_log.decision_function(X_test)\n",
    "fpr_test, tpr_test, thresholds_test = roc_curve(y_test, y_score_test)\n",
    "print('Test AUC: {}'.format(auc(fpr_test, tpr_test)))\n",
    "y_score_train = model_log.decision_function(X_train)\n",
    "fpr_train, tpr_train, thresholds_train = roc_curve(y_train, y_score_train)\n",
    "print('Train AUC: {}'.format(auc(fpr_train, tpr_train)))\n",
    "\n",
    "plt.figure(figsize=(10, 8))\n",
    "lw = 2\n",
    "plt.plot(fpr_test, tpr_test, color='darkorange',\n",
    "         lw=lw, label='ROC curve test')\n",
    "plt.plot(fpr_train, tpr_train, color='darkblue',\n",
    "         lw=lw, label='ROC curve train')\n",
    "plt.plot([0, 1], [0, 1], color='navy', lw=lw, linestyle='--')\n",
    "plt.xlim([0.0, 1.0])\n",
    "plt.ylim([0.0, 1.05])\n",
    "plt.yticks([i/20.0 for i in range(21)])\n",
    "plt.xticks([i/20.0 for i in range(21)])\n",
    "plt.xlabel('False Positive Rate')\n",
    "plt.ylabel('True Positive Rate')\n",
    "plt.title('Receiver operating characteristic (ROC) Curve')\n",
    "plt.legend(loc='lower right')\n",
    "plt.show()"
   ]
  },
  {
   "cell_type": "code",
   "execution_count": 860,
   "metadata": {},
   "outputs": [
    {
     "name": "stdout",
     "output_type": "stream",
     "text": [
      "n = -10,Test AUC: 0.8963078748236502\n",
      "n = -10,Train AUC: 0.9033641244947205\n",
      "n = -9,Test AUC: 0.8950253302552263\n",
      "n = -9,Train AUC: 0.9029509870281831\n",
      "n = -8,Test AUC: 0.8938974926253687\n",
      "n = -8,Train AUC: 0.9025174931030168\n",
      "n = -7,Test AUC: 0.8929099333076825\n",
      "n = -7,Train AUC: 0.9020961951178217\n",
      "n = -6,Test AUC: 0.8920674618442991\n",
      "n = -6,Train AUC: 0.9016976748440444\n",
      "n = -5,Test AUC: 0.8913332050788765\n",
      "n = -5,Train AUC: 0.9013799526725789\n",
      "n = -4,Test AUC: 0.8906975439271515\n",
      "n = -4,Train AUC: 0.9011272456222852\n",
      "n = -3,Test AUC: 0.8900771129921764\n",
      "n = -3,Train AUC: 0.9009513012529894\n",
      "n = -2,Test AUC: 0.8894807297678594\n",
      "n = -2,Train AUC: 0.9008126621118419\n",
      "n = -1,Test AUC: 0.8888466717968451\n",
      "n = -1,Train AUC: 0.9007147358879523\n",
      "n = 0,Test AUC: 0.8880955816339617\n",
      "n = 0,Train AUC: 0.9006440711769405\n",
      "n = 1,Test AUC: 0.8874342695908684\n",
      "n = 1,Train AUC: 0.9005954667691125\n",
      "n = 2,Test AUC: 0.8869164422213672\n",
      "n = 2,Train AUC: 0.9005620176102199\n",
      "n = 3,Test AUC: 0.8866054251635244\n",
      "n = 3,Train AUC: 0.9005439927283501\n",
      "n = 4,Test AUC: 0.886431480056432\n",
      "n = 4,Train AUC: 0.9005265059026556\n",
      "n = 5,Test AUC: 0.8863200589970502\n",
      "n = 5,Train AUC: 0.9005181660319399\n",
      "n = 6,Test AUC: 0.8861332884442734\n",
      "n = 6,Train AUC: 0.9005123370900416\n",
      "n = 7,Test AUC: 0.8860763755290496\n",
      "n = 7,Train AUC: 0.9005065978241726\n",
      "n = 8,Test AUC: 0.8860298832884442\n",
      "n = 8,Train AUC: 0.9005031901350626\n",
      "n = 9,Test AUC: 0.88600182762601\n",
      "n = 9,Train AUC: 0.9005018449946248\n"
     ]
    }
   ],
   "source": [
    "for n in range(-10,10):\n",
    "    logreg = LogisticRegression(fit_intercept=True, C=(1.5)**n, solver='liblinear')\n",
    "    model_log = logreg.fit(X_train, y_train)\n",
    "    y_hat_test = logreg.predict(X_test)\n",
    "    y_hat_train = logreg.predict(X_train)\n",
    "    y_score_test = model_log.decision_function(X_test)\n",
    "    fpr_test, tpr_test, thresholds_test = roc_curve(y_test, y_score_test)\n",
    "    print('n = {},Test AUC: {}'.format(n,auc(fpr_test, tpr_test)))\n",
    "    y_score_train = model_log.decision_function(X_train)\n",
    "    fpr_train, tpr_train, thresholds_train = roc_curve(y_train, y_score_train)\n",
    "    print('n = {},Train AUC: {}'.format(n,auc(fpr_train, tpr_train)))\n",
    "\n",
    "    "
   ]
  },
  {
   "cell_type": "markdown",
   "metadata": {},
   "source": [
    "#### As we can see ,lower regularization gives better test and train AUC. But the difference is not significant. We will use C=1 for our final model"
   ]
  },
  {
   "cell_type": "markdown",
   "metadata": {},
   "source": [
    "## Random Forests"
   ]
  },
  {
   "cell_type": "markdown",
   "metadata": {},
   "source": [
    "### Start with baseline decision tree"
   ]
  },
  {
   "cell_type": "markdown",
   "metadata": {},
   "source": [
    "#### Creating a baseline decision tree model. one hot encoding only the object type variables"
   ]
  },
  {
   "cell_type": "code",
   "execution_count": 862,
   "metadata": {},
   "outputs": [],
   "source": [
    "df = pd.get_dummies(df_original)"
   ]
  },
  {
   "cell_type": "code",
   "execution_count": 863,
   "metadata": {},
   "outputs": [
    {
     "data": {
      "text/plain": [
       "(12316, 29)"
      ]
     },
     "execution_count": 863,
     "metadata": {},
     "output_type": "execute_result"
    }
   ],
   "source": [
    "df.shape"
   ]
  },
  {
   "cell_type": "code",
   "execution_count": 865,
   "metadata": {},
   "outputs": [],
   "source": [
    "y = df.Revenue\n",
    "X = df.drop('Revenue',axis=1)\n",
    "scaler = StandardScaler()\n",
    "X = pd.DataFrame(scaler.fit_transform(X),columns=X.columns)\n",
    "X_train, X_test, y_train, y_test = train_test_split(X, y, random_state=0)"
   ]
  },
  {
   "cell_type": "code",
   "execution_count": 891,
   "metadata": {},
   "outputs": [
    {
     "data": {
      "text/plain": [
       "DecisionTreeClassifier(class_weight=None, criterion='gini', max_depth=5,\n",
       "                       max_features=None, max_leaf_nodes=None,\n",
       "                       min_impurity_decrease=0.0, min_impurity_split=None,\n",
       "                       min_samples_leaf=1, min_samples_split=2,\n",
       "                       min_weight_fraction_leaf=0.0, presort=False,\n",
       "                       random_state=None, splitter='best')"
      ]
     },
     "execution_count": 891,
     "metadata": {},
     "output_type": "execute_result"
    }
   ],
   "source": [
    "tree_clf = DecisionTreeClassifier(criterion='gini', max_depth=5) \n",
    "tree_clf.fit(X_train, y_train)"
   ]
  },
  {
   "cell_type": "code",
   "execution_count": 892,
   "metadata": {},
   "outputs": [],
   "source": [
    "pred = tree_clf.predict(X_test)"
   ]
  },
  {
   "cell_type": "code",
   "execution_count": 893,
   "metadata": {},
   "outputs": [
    {
     "name": "stdout",
     "output_type": "stream",
     "text": [
      "Testing Accuracy for Decision Tree Classifier: 90.26%\n"
     ]
    }
   ],
   "source": [
    "print(\"Testing Accuracy for Decision Tree Classifier: {:.4}%\".format(accuracy_score(y_test, pred) * 100))"
   ]
  },
  {
   "cell_type": "code",
   "execution_count": null,
   "metadata": {},
   "outputs": [],
   "source": []
  }
 ],
 "metadata": {
  "kernelspec": {
   "display_name": "Python 3",
   "language": "python",
   "name": "python3"
  },
  "language_info": {
   "codemirror_mode": {
    "name": "ipython",
    "version": 3
   },
   "file_extension": ".py",
   "mimetype": "text/x-python",
   "name": "python",
   "nbconvert_exporter": "python",
   "pygments_lexer": "ipython3",
   "version": "3.7.4"
  }
 },
 "nbformat": 4,
 "nbformat_minor": 2
}
